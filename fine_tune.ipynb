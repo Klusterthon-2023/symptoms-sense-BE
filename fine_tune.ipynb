{
 "cells": [
  {
   "cell_type": "code",
   "execution_count": 1,
   "id": "5e523702-9197-44eb-a4c3-104fd764a191",
   "metadata": {},
   "outputs": [],
   "source": [
    "from openai import OpenAI\n",
    "import os\n",
    "from dotenv import load_dotenv"
   ]
  },
  {
   "cell_type": "code",
   "execution_count": 2,
   "id": "ab8ebbdd-d802-4a25-9a3a-74f7aec0945a",
   "metadata": {},
   "outputs": [
    {
     "data": {
      "text/plain": [
       "True"
      ]
     },
     "execution_count": 2,
     "metadata": {},
     "output_type": "execute_result"
    }
   ],
   "source": [
    "dotenv_path = os.path.join(os.getcwd(), '.env')\n",
    "load_dotenv(dotenv_path)"
   ]
  },
  {
   "cell_type": "code",
   "execution_count": 3,
   "id": "6034a9e7-0a33-48f0-a538-5148eadf1768",
   "metadata": {},
   "outputs": [],
   "source": [
    "client = OpenAI(api_key=os.environ.get(\"CHAT_GPT_KEY\"))"
   ]
  },
  {
   "cell_type": "code",
   "execution_count": 25,
   "id": "6524ccbb-ced1-4de5-8536-4b63c51d47dc",
   "metadata": {},
   "outputs": [
    {
     "data": {
      "text/plain": [
       "FileObject(id='file-rO2Hw1MI3vICK7foy91Fw7de', bytes=111524, created_at=1700789968, filename='fine_tuning_data.jsonl', object='file', purpose='fine-tune', status='processed', status_details=None)"
      ]
     },
     "execution_count": 25,
     "metadata": {},
     "output_type": "execute_result"
    }
   ],
   "source": [
    "res = client.files.create(\n",
    "  file=open(\"fine_tuning_data.jsonl\", \"rb\"),\n",
    "  purpose=\"fine-tune\"\n",
    ")\n",
    "\n",
    "res"
   ]
  },
  {
   "cell_type": "code",
   "execution_count": 26,
   "id": "dfecc797-f6b8-4614-947e-619a322846bb",
   "metadata": {},
   "outputs": [
    {
     "data": {
      "text/plain": [
       "FineTuningJob(id='ftjob-9si6Lslywy4pwNvxxZuh1PAB', created_at=1700790004, error=None, fine_tuned_model=None, finished_at=None, hyperparameters=Hyperparameters(n_epochs='auto', batch_size='auto', learning_rate_multiplier='auto'), model='gpt-3.5-turbo-0613', object='fine_tuning.job', organization_id='org-aE2gGAzbXcyf8XUS3O2dQhnk', result_files=[], status='validating_files', trained_tokens=None, training_file='file-rO2Hw1MI3vICK7foy91Fw7de', validation_file=None)"
      ]
     },
     "execution_count": 26,
     "metadata": {},
     "output_type": "execute_result"
    }
   ],
   "source": [
    "res = client.fine_tuning.jobs.create(\n",
    "  training_file=\"file-rO2Hw1MI3vICK7foy91Fw7de\", \n",
    "  model=\"gpt-3.5-turbo\"\n",
    ")\n",
    "\n",
    "res"
   ]
  },
  {
   "cell_type": "markdown",
   "id": "327c6c55-4ec0-4a7e-9ae4-417b4515c0f9",
   "metadata": {},
   "source": [
    "<h4>Testing model</h4>"
   ]
  },
  {
   "cell_type": "code",
   "execution_count": 29,
   "id": "9e040581-c7c1-4cf4-b2bf-246cd23fcd51",
   "metadata": {},
   "outputs": [
    {
     "data": {
      "text/plain": [
       "SyncCursorPage[FineTuningJob](data=[FineTuningJob(id='ftjob-9si6Lslywy4pwNvxxZuh1PAB', created_at=1700790004, error=None, fine_tuned_model=None, finished_at=None, hyperparameters=Hyperparameters(n_epochs=3, batch_size=1, learning_rate_multiplier=2), model='gpt-3.5-turbo-0613', object='fine_tuning.job', organization_id='org-aE2gGAzbXcyf8XUS3O2dQhnk', result_files=[], status='running', trained_tokens=None, training_file='file-rO2Hw1MI3vICK7foy91Fw7de', validation_file=None), FineTuningJob(id='ftjob-M9eF16dT9cn54qhuVR5Br8g6', created_at=1700789133, error=None, fine_tuned_model='ft:gpt-3.5-turbo-0613:personal::8OFNquBC', finished_at=1700789697, hyperparameters=Hyperparameters(n_epochs=3, batch_size=1, learning_rate_multiplier=2), model='ft:gpt-3.5-turbo-0613:personal::8ODSnXqM', object='fine_tuning.job', organization_id='org-aE2gGAzbXcyf8XUS3O2dQhnk', result_files=['file-amr5FkQjxk38PnqDHznTzZxz'], status='succeeded', trained_tokens=28350, training_file='file-iZboU2OhKL4SUqsPcAmCqVCf', validation_file=None), FineTuningJob(id='ftjob-gTrQqWBKwMtyUlKvE3mi0U2L', created_at=1700785510, error=None, fine_tuned_model='ft:gpt-3.5-turbo-0613:personal::8OEMV3Ne', finished_at=1700785770, hyperparameters=Hyperparameters(n_epochs=9, batch_size=1, learning_rate_multiplier=2), model='ft:gpt-3.5-turbo-0613:personal::8ODSnXqM', object='fine_tuning.job', organization_id='org-aE2gGAzbXcyf8XUS3O2dQhnk', result_files=['file-AZTsQijEuIRVyZiO4hkdUzS4'], status='succeeded', trained_tokens=22131, training_file='file-O6lwl6BfMz8ijlik18yLThdu', validation_file=None), FineTuningJob(id='ftjob-qGCJxXnpcD1INxbvSm3WyRKl', created_at=1700781964, error=None, fine_tuned_model='ft:gpt-3.5-turbo-0613:personal::8ODSnXqM', finished_at=1700782316, hyperparameters=Hyperparameters(n_epochs=7, batch_size=1, learning_rate_multiplier=2), model='gpt-3.5-turbo-0613', object='fine_tuning.job', organization_id='org-aE2gGAzbXcyf8XUS3O2dQhnk', result_files=['file-mG0wgRLVBsensqJdoIkn08Df'], status='succeeded', trained_tokens=46473, training_file='file-Ku0RpL59MDkDKULiSv5d5bhz', validation_file=None)], object='list', has_more=False)"
      ]
     },
     "execution_count": 29,
     "metadata": {},
     "output_type": "execute_result"
    }
   ],
   "source": [
    "# List 10 fine-tuning jobs\n",
    "client.fine_tuning.jobs.list(limit=10)"
   ]
  },
  {
   "cell_type": "code",
   "execution_count": 33,
   "id": "6433060f-8887-4376-b18c-bbc8541785c6",
   "metadata": {},
   "outputs": [
    {
     "data": {
      "text/plain": [
       "FineTuningJob(id='ftjob-9si6Lslywy4pwNvxxZuh1PAB', created_at=1700790004, error=None, fine_tuned_model='ft:gpt-3.5-turbo-0613:personal::8OFaUXrw', finished_at=1700790481, hyperparameters=Hyperparameters(n_epochs=3, batch_size=1, learning_rate_multiplier=2), model='gpt-3.5-turbo-0613', object='fine_tuning.job', organization_id='org-aE2gGAzbXcyf8XUS3O2dQhnk', result_files=['file-Pn4ZrMIZbqyKOV4IrUNd8kL9'], status='succeeded', trained_tokens=66447, training_file='file-rO2Hw1MI3vICK7foy91Fw7de', validation_file=None)"
      ]
     },
     "execution_count": 33,
     "metadata": {},
     "output_type": "execute_result"
    }
   ],
   "source": [
    "# Retrieve the state of a fine-tune\n",
    "client.fine_tuning.jobs.retrieve(\"ftjob-9si6Lslywy4pwNvxxZuh1PAB\")"
   ]
  },
  {
   "cell_type": "code",
   "execution_count": 9,
   "id": "e43c4a81-ca51-4d1d-ab2b-ce2c25fb9f78",
   "metadata": {},
   "outputs": [
    {
     "data": {
      "text/plain": [
       "ChatCompletionMessage(content='Muscle spasms, or sudden and involuntary contractions of one or more muscles, can be quite uncomfortable. Here are some general tips for managing muscle spasms:\\n\\n1. Stretching: Gently stretch the affected muscle to relieve the spasm. Slow, controlled movements can help relax the muscle.\\n\\n2. Massage: Apply gentle pressure and circular motions to the area experiencing the spasm. This can help relax the muscle and alleviate discomfort.\\n\\n3. Heat or Cold Therapy: Apply a heating pad or a cold compress to the area, depending on what feels more soothing for you. Heat can help relax muscles, while cold can numb the area and reduce inflammation.\\n\\n4. Hydration: Dehydration can contribute to muscle spasms, so make sure you are drinking enough water throughout the day.\\n\\n5. Magnesium: Consider consuming magnesium-rich foods (such as leafy greens, nuts, and seeds) or taking a magnesium supplement. Magnesium can help relax muscles and prevent cramping.\\n\\n6. Over-the-Counter Pain Relievers: Nonsteroidal anti-inflammatory drugs (NSAIDs), like ibuprofen or naproxen, can help reduce pain and inflammation associated with muscle spasms. However, consult with a healthcare professional before taking any medication, especially if you have any underlying conditions or are currently on other medications.\\n\\n7. Rest: If possible, rest the affected muscle and avoid activities that may exacerbate the spasm.\\n\\n8. Avoiding Triggers: Identify any potential triggers for your muscle spasms. These could include certain movements, activities, or even stress. Taking steps to avoid or manage these triggers may help prevent future spasms.\\n\\nIf your muscle spasms persist, are severe, or are accompanied by other concerning symptoms, it is important to seek medical attention. A healthcare professional can provide a proper diagnosis and recommend specific treatments or further investigations if needed.', role='assistant', function_call=None, tool_calls=None)"
      ]
     },
     "execution_count": 9,
     "metadata": {},
     "output_type": "execute_result"
    }
   ],
   "source": [
    "response = client.chat.completions.create(\n",
    "  model=\"ft:gpt-3.5-turbo-0613:personal::8ODSnXqM\",\n",
    "  messages=[\n",
    "    {\"role\": \"user\", \"content\": \"I am having muscle spasms\"}\n",
    "  ]\n",
    ")\n",
    "\n",
    "response.choices[0].message"
   ]
  },
  {
   "cell_type": "code",
   "execution_count": 10,
   "id": "e18b6e29-fb76-49d6-9024-9fc0886274b2",
   "metadata": {},
   "outputs": [
    {
     "data": {
      "text/plain": [
       "ChatCompletionMessage(content=\"Headaches can have various causes, and it's essential to identify the underlying factors to determine the best course of action. Here are some steps you can take to address your headaches:\\n\\n1. **Identify the type:** Learn about the different types of headaches, such as tension headaches, migraines, cluster headaches, sinus headaches, and cervicogenic headaches. Understanding the characteristics can help in diagnosis.\\n\\n2. **Keep a headache diary:** Track your headaches by noting the frequency, intensity, duration, and any possible triggers. This record can provide valuable information for healthcare professionals.\\n\\n3. **Evaluate your lifestyle:** Examine your sleep patterns, stress levels, diet, hydration, and exercise habits. Make sure you maintain a healthy lifestyle as these factors can contribute to headaches.\\n\\n4. **Manage stress:** Find effective techniques to manage stress, such as relaxation exercises, meditation, deep breathing, or engaging in hobbies. Stress is a common trigger for headaches.\\n\\n5. **Ensure regular sleep:** Maintain a consistent sleep schedule and aim for adequate, quality sleep. Poor sleep or changes in sleeping patterns can be linked to headaches.\\n\\n6. **Stay hydrated:** Dehydration can sometimes cause headaches, so drink enough water throughout the day.\\n\\n7. **Review your medication:** If you take any medications regularly, check if headaches are listed as a possible side effect. Consult your doctor if you suspect a connection.\\n\\n8. **Consider your environment:** Bright lights, loud noises, strong smells, or changes in weather conditions can trigger headaches for some individuals. Identify potential triggers and take steps to minimize exposure.\\n\\n9. **Over-the-counter pain relief:** For occasional mild headaches, over-the-counter pain relievers like acetaminophen (Tylenol), ibuprofen (Advil, Motrin), or aspirin may help. Follow the recommended dosage and guidelines.\\n\\n10. **Consult a healthcare professional:** If your headaches persist, worsen in intensity, or significantly impact your daily life, it's important to seek medical advice. A healthcare professional can assess your situation, provide a diagnosis, and recommend appropriate treatments.\\n\\nRemember, everyone's situation is unique, and what works for one person may not work for another. Finding the right approach may require some trial and error. If you're experiencing severe headaches, sudden onset headaches, or other concerning symptoms, it's best to seek prompt medical attention.\", role='assistant', function_call=None, tool_calls=None)"
      ]
     },
     "execution_count": 10,
     "metadata": {},
     "output_type": "execute_result"
    }
   ],
   "source": [
    "response = client.chat.completions.create(\n",
    "  model=\"ft:gpt-3.5-turbo-0613:personal::8ODSnXqM\",\n",
    "  messages=[\n",
    "    {\"role\": \"user\", \"content\": \"I am having headaches\"}\n",
    "  ]\n",
    ")\n",
    "\n",
    "response.choices[0].message"
   ]
  },
  {
   "cell_type": "code",
   "execution_count": 34,
   "id": "713fbfa1-79e9-4a7e-90ab-3596d75b04fb",
   "metadata": {},
   "outputs": [
    {
     "data": {
      "text/plain": [
       "ChatCompletionMessage(content='Excuse me, but I\\'m not familiar with the term \"boar\" in relation to Dolapo. Could you please provide more context or clarify?', role='assistant', function_call=None, tool_calls=None)"
      ]
     },
     "execution_count": 34,
     "metadata": {},
     "output_type": "execute_result"
    }
   ],
   "source": [
    "response = client.chat.completions.create(\n",
    "  model=\"ft:gpt-3.5-turbo-0613:personal::8OFaUXrw\",\n",
    "  messages=[\n",
    "    {\"role\": \"user\", \"content\": \"Dolapo is a boar\"}\n",
    "  ]\n",
    ")\n",
    "\n",
    "response.choices[0].message"
   ]
  },
  {
   "cell_type": "code",
   "execution_count": 35,
   "id": "42c550e5-d355-4e80-9305-0faca5685eb6",
   "metadata": {},
   "outputs": [
    {
     "data": {
      "text/plain": [
       "ChatCompletionMessage(content=\"I'm sorry, but I cannot provide real-time information as my training only goes up until October 2021. Therefore, I do not have access to current information.\", role='assistant', function_call=None, tool_calls=None)"
      ]
     },
     "execution_count": 35,
     "metadata": {},
     "output_type": "execute_result"
    }
   ],
   "source": [
    "response = client.chat.completions.create(\n",
    "  model=\"ft:gpt-3.5-turbo-0613:personal::8OFaUXrw\",\n",
    "  messages=[\n",
    "    {\"role\": \"user\", \"content\": \"What is today's weather like?\"}\n",
    "  ]\n",
    ")\n",
    "\n",
    "response.choices[0].message"
   ]
  },
  {
   "cell_type": "markdown",
   "id": "34ae49f9-505b-4ce4-8e14-572555390130",
   "metadata": {},
   "source": [
    "<h4>More training</h4>"
   ]
  },
  {
   "cell_type": "code",
   "execution_count": 14,
   "id": "4fd61d19-7d7d-48e4-9880-464629708ade",
   "metadata": {},
   "outputs": [
    {
     "data": {
      "text/plain": [
       "FileObject(id='file-O6lwl6BfMz8ijlik18yLThdu', bytes=12726, created_at=1700785415, filename='more-data.jsonl', object='file', purpose='fine-tune', status='processed', status_details=None)"
      ]
     },
     "execution_count": 14,
     "metadata": {},
     "output_type": "execute_result"
    }
   ],
   "source": [
    "res = client.files.create(\n",
    "  file=open(\"more-data.jsonl\", \"rb\"),\n",
    "  purpose=\"fine-tune\"\n",
    ")\n",
    "\n",
    "res"
   ]
  },
  {
   "cell_type": "code",
   "execution_count": 16,
   "id": "a9502a79-9a6f-4ba8-a0bb-cc4cdf9d3ca9",
   "metadata": {},
   "outputs": [
    {
     "data": {
      "text/plain": [
       "FineTuningJob(id='ftjob-gTrQqWBKwMtyUlKvE3mi0U2L', created_at=1700785510, error=None, fine_tuned_model=None, finished_at=None, hyperparameters=Hyperparameters(n_epochs='auto', batch_size='auto', learning_rate_multiplier='auto'), model='ft:gpt-3.5-turbo-0613:personal::8ODSnXqM', object='fine_tuning.job', organization_id='org-aE2gGAzbXcyf8XUS3O2dQhnk', result_files=[], status='validating_files', trained_tokens=None, training_file='file-O6lwl6BfMz8ijlik18yLThdu', validation_file=None)"
      ]
     },
     "execution_count": 16,
     "metadata": {},
     "output_type": "execute_result"
    }
   ],
   "source": [
    "res = client.fine_tuning.jobs.create(\n",
    "  training_file=\"V\", \n",
    "  model=\"ft:gpt-3.5-turbo-0613:personal::8ODSnXqM\"\n",
    ")\n",
    "\n",
    "res"
   ]
  },
  {
   "cell_type": "markdown",
   "id": "df2a01af-ab88-44e8-8d01-18ac8a955494",
   "metadata": {},
   "source": [
    "<h4>More Testing<h4>"
   ]
  },
  {
   "cell_type": "code",
   "execution_count": 17,
   "id": "ef6a86e6-d616-49d0-a1d7-b9d084dee3c4",
   "metadata": {},
   "outputs": [
    {
     "data": {
      "text/plain": [
       "SyncCursorPage[FineTuningJob](data=[FineTuningJob(id='ftjob-gTrQqWBKwMtyUlKvE3mi0U2L', created_at=1700785510, error=None, fine_tuned_model=None, finished_at=None, hyperparameters=Hyperparameters(n_epochs=9, batch_size=1, learning_rate_multiplier=2), model='ft:gpt-3.5-turbo-0613:personal::8ODSnXqM', object='fine_tuning.job', organization_id='org-aE2gGAzbXcyf8XUS3O2dQhnk', result_files=[], status='running', trained_tokens=None, training_file='file-O6lwl6BfMz8ijlik18yLThdu', validation_file=None), FineTuningJob(id='ftjob-qGCJxXnpcD1INxbvSm3WyRKl', created_at=1700781964, error=None, fine_tuned_model='ft:gpt-3.5-turbo-0613:personal::8ODSnXqM', finished_at=1700782316, hyperparameters=Hyperparameters(n_epochs=7, batch_size=1, learning_rate_multiplier=2), model='gpt-3.5-turbo-0613', object='fine_tuning.job', organization_id='org-aE2gGAzbXcyf8XUS3O2dQhnk', result_files=['file-mG0wgRLVBsensqJdoIkn08Df'], status='succeeded', trained_tokens=46473, training_file='file-Ku0RpL59MDkDKULiSv5d5bhz', validation_file=None)], object='list', has_more=False)"
      ]
     },
     "execution_count": 17,
     "metadata": {},
     "output_type": "execute_result"
    }
   ],
   "source": [
    "client.fine_tuning.jobs.list(limit=10)"
   ]
  },
  {
   "cell_type": "code",
   "execution_count": 36,
   "id": "c821bcd5-3332-45c0-ae11-8d4958a64993",
   "metadata": {},
   "outputs": [
    {
     "data": {
      "text/plain": [
       "ChatCompletionMessage(content=\"I'm sorry, but I don't have access to that information.\", role='assistant', function_call=None, tool_calls=None)"
      ]
     },
     "execution_count": 36,
     "metadata": {},
     "output_type": "execute_result"
    }
   ],
   "source": [
    "response = client.chat.completions.create(\n",
    "  model=\"ft:gpt-3.5-turbo-0613:personal::8OFaUXrw\",\n",
    "  messages=[\n",
    "    {\"role\": \"user\", \"content\": \"What is today's weather like?\"}\n",
    "  ]\n",
    ")\n",
    "\n",
    "response.choices[0].message"
   ]
  },
  {
   "cell_type": "code",
   "execution_count": 37,
   "id": "cf52f238-c745-4445-8ec9-8e47ad8f1d87",
   "metadata": {},
   "outputs": [
    {
     "data": {
      "text/plain": [
       "ChatCompletionMessage(content=\"As an AI, I don't have the ability to physically do anything. I exist solely to provide information and engage in conversation with users like yourself.\", role='assistant', function_call=None, tool_calls=None)"
      ]
     },
     "execution_count": 37,
     "metadata": {},
     "output_type": "execute_result"
    }
   ],
   "source": [
    "response = client.chat.completions.create(\n",
    "  model=\"ft:gpt-3.5-turbo-0613:personal::8OFaUXrw\",\n",
    "  messages=[\n",
    "    {\"role\": \"user\", \"content\": \"What are you doing today?\"}\n",
    "  ]\n",
    ")\n",
    "\n",
    "response.choices[0].message"
   ]
  },
  {
   "cell_type": "code",
   "execution_count": 38,
   "id": "e7004cf0-7723-4b3f-ab6b-928d5afe07b8",
   "metadata": {},
   "outputs": [
    {
     "data": {
      "text/plain": [
       "ChatCompletionMessage(content='As of 2022, the CEO of Samsung is Koh Dong-jin.', role='assistant', function_call=None, tool_calls=None)"
      ]
     },
     "execution_count": 38,
     "metadata": {},
     "output_type": "execute_result"
    }
   ],
   "source": [
    "response = client.chat.completions.create(\n",
    "  model=\"ft:gpt-3.5-turbo-0613:personal::8OFaUXrw\",\n",
    "  messages=[\n",
    "    {\"role\": \"user\", \"content\": \"Who is the CEO of samsung?\"}\n",
    "  ]\n",
    ")\n",
    "\n",
    "response.choices[0].message"
   ]
  },
  {
   "cell_type": "code",
   "execution_count": 21,
   "id": "0d92e292-f9e4-44f3-8a19-4319560775e4",
   "metadata": {},
   "outputs": [
    {
     "data": {
      "text/plain": [
       "FileObject(id='file-iZboU2OhKL4SUqsPcAmCqVCf', bytes=50154, created_at=1700789098, filename='sample.jsonl', object='file', purpose='fine-tune', status='processed', status_details=None)"
      ]
     },
     "execution_count": 21,
     "metadata": {},
     "output_type": "execute_result"
    }
   ],
   "source": [
    "res = client.files.create(\n",
    "  file=open(\"sample.jsonl\", \"rb\"),\n",
    "  purpose=\"fine-tune\"\n",
    ")\n",
    "\n",
    "res"
   ]
  },
  {
   "cell_type": "code",
   "execution_count": 22,
   "id": "99ab1d60-542e-4213-a7fd-62d349c23865",
   "metadata": {},
   "outputs": [
    {
     "data": {
      "text/plain": [
       "FineTuningJob(id='ftjob-M9eF16dT9cn54qhuVR5Br8g6', created_at=1700789133, error=None, fine_tuned_model=None, finished_at=None, hyperparameters=Hyperparameters(n_epochs='auto', batch_size='auto', learning_rate_multiplier='auto'), model='ft:gpt-3.5-turbo-0613:personal::8ODSnXqM', object='fine_tuning.job', organization_id='org-aE2gGAzbXcyf8XUS3O2dQhnk', result_files=[], status='validating_files', trained_tokens=None, training_file='file-iZboU2OhKL4SUqsPcAmCqVCf', validation_file=None)"
      ]
     },
     "execution_count": 22,
     "metadata": {},
     "output_type": "execute_result"
    }
   ],
   "source": [
    "res = client.fine_tuning.jobs.create(\n",
    "  training_file=\"file-iZboU2OhKL4SUqsPcAmCqVCf\", \n",
    "  model=\"ft:gpt-3.5-turbo-0613:personal::8ODSnXqM\"\n",
    ")\n",
    "\n",
    "res"
   ]
  },
  {
   "cell_type": "code",
   "execution_count": 30,
   "id": "b482f3ea-bcf4-4f56-a687-b668dffd5d19",
   "metadata": {},
   "outputs": [
    {
     "data": {
      "text/plain": [
       "ChatCompletionMessage(content='As of February 2022, the best team in the Premier League can vary depending on current form and performance. However, historically successful teams in the Premier League include Manchester United, Liverpool, and Manchester City.', role='assistant', function_call=None, tool_calls=None)"
      ]
     },
     "execution_count": 30,
     "metadata": {},
     "output_type": "execute_result"
    }
   ],
   "source": [
    "response = client.chat.completions.create(\n",
    "  model=\"ft:gpt-3.5-turbo-0613:personal::8OFNquBC\",\n",
    "  messages=[\n",
    "    {\"role\": \"user\", \"content\": \"Which team is the best in premier league?\"}\n",
    "  ]\n",
    ")\n",
    "\n",
    "response.choices[0].message"
   ]
  },
  {
   "cell_type": "code",
   "execution_count": null,
   "id": "b1f1e4ed-7825-4473-86d1-931cc0f62511",
   "metadata": {},
   "outputs": [],
   "source": []
  }
 ],
 "metadata": {
  "kernelspec": {
   "display_name": "Python 3 (ipykernel)",
   "language": "python",
   "name": "python3"
  },
  "language_info": {
   "codemirror_mode": {
    "name": "ipython",
    "version": 3
   },
   "file_extension": ".py",
   "mimetype": "text/x-python",
   "name": "python",
   "nbconvert_exporter": "python",
   "pygments_lexer": "ipython3",
   "version": "3.11.5"
  }
 },
 "nbformat": 4,
 "nbformat_minor": 5
}
